{
 "cells": [
  {
   "cell_type": "markdown",
   "metadata": {},
   "source": [
    "# Day 01"
   ]
  },
  {
   "cell_type": "markdown",
   "metadata": {},
   "source": [
    "### 1. Even and odd\n",
    "a. Write the code using np.arrange() to get all even numbers between 21 and 70, (70 inclusive)\n",
    "\n",
    "b. Write code using np.arrange() to get all odd numbers between 20 and 71. (71 inclusive)"
   ]
  },
  {
   "cell_type": "code",
   "execution_count": 2,
   "metadata": {},
   "outputs": [
    {
     "name": "stdout",
     "output_type": "stream",
     "text": [
      "[22 24 26 28 30 32 34 36 38 40 42 44 46 48 50 52 54 56 58 60 62 64 66 68\n",
      " 70]\n"
     ]
    }
   ],
   "source": [
    "import numpy as np\n",
    "arr = np.arange(22, 71, 2)\n",
    "print(arr)"
   ]
  },
  {
   "cell_type": "code",
   "execution_count": 3,
   "metadata": {},
   "outputs": [
    {
     "name": "stdout",
     "output_type": "stream",
     "text": [
      "[21 23 25 27 29 31 33 35 37 39 41 43 45 47 49 51 53 55 57 59 61 63 65 67\n",
      " 69 71]\n"
     ]
    }
   ],
   "source": [
    "arr = np.arange(21, 72, 2)\n",
    "print(arr)"
   ]
  },
  {
   "cell_type": "markdown",
   "metadata": {},
   "source": [
    "### 2. Cast a type\n",
    "\n",
    "Raghu has created a numpy arr using the following code:\n",
    "\n",
    "`import numpy as np`\n",
    "\n",
    "`arr = np.array([10, 20, 30, 40, 50])`\n",
    "\n",
    "He wants to change the data type from integer to float"
   ]
  },
  {
   "cell_type": "code",
   "execution_count": 5,
   "metadata": {},
   "outputs": [
    {
     "data": {
      "text/plain": [
       "array([10., 20., 30., 40., 50.])"
      ]
     },
     "execution_count": 5,
     "metadata": {},
     "output_type": "execute_result"
    }
   ],
   "source": [
    "import numpy as np\n",
    "arr = np.array([10, 20, 30, 40, 50])\n",
    "arr.astype('float64')"
   ]
  },
  {
   "cell_type": "markdown",
   "metadata": {},
   "source": [
    "### 3. Slice away\n",
    "what would be the output of following code"
   ]
  },
  {
   "cell_type": "code",
   "execution_count": 12,
   "metadata": {},
   "outputs": [
    {
     "name": "stdout",
     "output_type": "stream",
     "text": [
      "[2 3 4]\n"
     ]
    }
   ],
   "source": [
    "import numpy as np\n",
    "a = np.arange(10)\n",
    "print(a[2:5]) # 2, 3, 4"
   ]
  },
  {
   "cell_type": "markdown",
   "metadata": {},
   "source": [
    "### 4. What about output\n",
    "which option is correct about output of the following code snippet"
   ]
  },
  {
   "cell_type": "code",
   "execution_count": 16,
   "metadata": {},
   "outputs": [
    {
     "name": "stdout",
     "output_type": "stream",
     "text": [
      "[  5  -9  20  25   3  -5  16 -10  -8]\n"
     ]
    }
   ],
   "source": [
    "import numpy as np\n",
    "x = np.array([-5, 9, 20, 25, -3, 5, 16, 10, -8])\n",
    "x[(x >= -5) &(x <= 15)] *= -1\n",
    "print(x)"
   ]
  },
  {
   "cell_type": "markdown",
   "metadata": {},
   "source": [
    "### 5.Comparison Return!\n",
    "what will be the output of the following code?"
   ]
  },
  {
   "cell_type": "code",
   "execution_count": 17,
   "metadata": {},
   "outputs": [
    {
     "name": "stdout",
     "output_type": "stream",
     "text": [
      "[False  True False  True]\n"
     ]
    }
   ],
   "source": [
    "a = np.array([100, 200, 300, 400])\n",
    "b = np.array([300, 200, 100, 400])\n",
    "\n",
    "print(a==b)"
   ]
  },
  {
   "cell_type": "markdown",
   "metadata": {},
   "source": [
    "### 6. The dawn of the planet of numpy\n",
    "\n",
    "#### Problem Statement:\n",
    "Given the start, end, and the stepsize return a numpy array sequence in given range with the specified stepsize\n",
    "\n",
    "#### Input Format:\n",
    "One line of input will have 3 space-separated integers consisting of start, end, and step\n",
    "\n",
    "#### Output Format:\n",
    "A numpy array with elements rounded off to 2 decimal places"
   ]
  },
  {
   "cell_type": "code",
   "execution_count": 18,
   "metadata": {},
   "outputs": [
    {
     "data": {
      "text/plain": [
       "array([10, 12, 14, 16, 18, 20, 22, 24, 26, 28])"
      ]
     },
     "execution_count": 18,
     "metadata": {},
     "output_type": "execute_result"
    }
   ],
   "source": [
    "import numpy as np\n",
    "def create_seq(start, end, step):\n",
    "    arr = np.round(np.arange(start, end, step))\n",
    "    return(arr)\n",
    "\n",
    "create_seq(10, 30, 2)\n"
   ]
  },
  {
   "cell_type": "markdown",
   "metadata": {},
   "source": [
    "### 7. Index of Pokedex\n",
    "#### Problem Statement:\n",
    "Give a 1D array, return the first and last element of the array\n",
    "\n",
    "#### Input Format:\n",
    "A 1D numpy array\n",
    "\n",
    "#### Output Format:\n",
    "A tuple (first element, last element)"
   ]
  },
  {
   "cell_type": "code",
   "execution_count": 20,
   "metadata": {},
   "outputs": [
    {
     "data": {
      "text/plain": [
       "(1, 5)"
      ]
     },
     "execution_count": 20,
     "metadata": {},
     "output_type": "execute_result"
    }
   ],
   "source": [
    "import numpy as np  \n",
    "def get_firt_last(arr: np.ndarray):\n",
    "    return (arr[0], arr[-1])\n",
    "\n",
    "a = np.array([1, 2, 3, 4, 5])\n",
    "get_firt_last(a)"
   ]
  },
  {
   "cell_type": "markdown",
   "metadata": {},
   "source": [
    "### 8.Index operation\n",
    "What would be the output of the following code:\n",
    "\n",
    "`import numpy as np`\n",
    "\n",
    "`arr = np.array([1, 2, 3, 4])`\n",
    "\n",
    "`print(arr[2] + arr[-2])`"
   ]
  },
  {
   "cell_type": "code",
   "execution_count": 23,
   "metadata": {},
   "outputs": [
    {
     "name": "stdout",
     "output_type": "stream",
     "text": [
      "6\n"
     ]
    }
   ],
   "source": [
    "import numpy as np\n",
    "arr = np.array([1, 2, 3, 4])\n",
    "print(arr[2] + arr[-2]) # 6 (3+3)"
   ]
  },
  {
   "cell_type": "markdown",
   "metadata": {},
   "source": [
    "### 9.Create the Sequence \n",
    "Create a Sequence of a given length from a given start point, where the difference between the 2 consecutive elements of the expected sequence is also given as step"
   ]
  },
  {
   "cell_type": "code",
   "execution_count": 25,
   "metadata": {},
   "outputs": [
    {
     "data": {
      "text/plain": [
       "array([ 5,  8, 11, 14, 17, 20, 23, 26, 29, 32])"
      ]
     },
     "execution_count": 25,
     "metadata": {},
     "output_type": "execute_result"
    }
   ],
   "source": [
    "import numpy as np\n",
    "def seq(start, length, step):\n",
    "    return np.arange(start, start+(length*step), step)\n",
    "    \n",
    "seq(5, 10, 3)"
   ]
  },
  {
   "cell_type": "markdown",
   "metadata": {},
   "source": [
    "### 10. Shape of you\n",
    "Given an array, return the shape and dimensions of the array."
   ]
  },
  {
   "cell_type": "code",
   "execution_count": 28,
   "metadata": {},
   "outputs": [
    {
     "data": {
      "text/plain": [
       "((3,), 1, dtype('int32'))"
      ]
     },
     "execution_count": 28,
     "metadata": {},
     "output_type": "execute_result"
    }
   ],
   "source": [
    "import numpy as np\n",
    "def get_arr_props(arr: np.ndarray):\n",
    "    return arr.shape, arr.ndim, arr.dtype\n",
    "\n",
    "a = np.array([1, 2, 3])\n",
    "get_arr_props(a)"
   ]
  }
 ],
 "metadata": {
  "kernelspec": {
   "display_name": "Python 3",
   "language": "python",
   "name": "python3"
  },
  "language_info": {
   "codemirror_mode": {
    "name": "ipython",
    "version": 3
   },
   "file_extension": ".py",
   "mimetype": "text/x-python",
   "name": "python",
   "nbconvert_exporter": "python",
   "pygments_lexer": "ipython3",
   "version": "3.11.4"
  }
 },
 "nbformat": 4,
 "nbformat_minor": 2
}
