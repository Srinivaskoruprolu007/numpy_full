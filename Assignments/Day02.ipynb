{
 "cells": [
  {
   "cell_type": "markdown",
   "metadata": {},
   "source": [
    "# DAY 02\n",
    "### 1. What about code?\n",
    "In the below code, `condition` implies the situation that `arr` has `at least one value smaller than or equal to 0.6`  "
   ]
  },
  {
   "cell_type": "code",
   "execution_count": 3,
   "metadata": {},
   "outputs": [
    {
     "name": "stdout",
     "output_type": "stream",
     "text": [
      "condition satifies\n"
     ]
    }
   ],
   "source": [
    "import numpy as np\n",
    "arr = 2 * np.arange(0, 2, 0.5)\n",
    "if arr.all() <= 0.6:\n",
    "    print('condition satifies')\n",
    "else:\n",
    "    print('condition does not satify')"
   ]
  },
  {
   "cell_type": "markdown",
   "metadata": {},
   "source": [
    "### 2. What will be printed?\n"
   ]
  },
  {
   "cell_type": "code",
   "execution_count": 9,
   "metadata": {},
   "outputs": [
    {
     "name": "stdout",
     "output_type": "stream",
     "text": [
      "[[1. 1. 1.]\n",
      " [1. 1. 1.]\n",
      " [1. 1. 1.]]\n"
     ]
    },
    {
     "ename": "TypeError",
     "evalue": "'NoneType' object is not subscriptable",
     "output_type": "error",
     "traceback": [
      "\u001b[1;31m---------------------------------------------------------------------------\u001b[0m",
      "\u001b[1;31mTypeError\u001b[0m                                 Traceback (most recent call last)",
      "\u001b[1;32mc:\\Users\\Sandeep\\numpy_full\\numpy_full\\Assignments\\Day02.ipynb Cell 4\u001b[0m line \u001b[0;36m4\n\u001b[0;32m      <a href='vscode-notebook-cell:/c%3A/Users/Sandeep/numpy_full/numpy_full/Assignments/Day02.ipynb#W2sZmlsZQ%3D%3D?line=1'>2</a>\u001b[0m x \u001b[39m=\u001b[39m np\u001b[39m.\u001b[39marray([[\u001b[39m200\u001b[39m, \u001b[39m200\u001b[39m, \u001b[39m200\u001b[39m],[\u001b[39m300\u001b[39m, \u001b[39m300\u001b[39m,\u001b[39m300\u001b[39m], [\u001b[39m400\u001b[39m, \u001b[39m400\u001b[39m, \u001b[39m400\u001b[39m]])\n\u001b[0;32m      <a href='vscode-notebook-cell:/c%3A/Users/Sandeep/numpy_full/numpy_full/Assignments/Day02.ipynb#W2sZmlsZQ%3D%3D?line=2'>3</a>\u001b[0m v \u001b[39m=\u001b[39m np\u001b[39m.\u001b[39marray([\u001b[39m200\u001b[39m, \u001b[39m300\u001b[39m, \u001b[39m400\u001b[39m])\n\u001b[1;32m----> <a href='vscode-notebook-cell:/c%3A/Users/Sandeep/numpy_full/numpy_full/Assignments/Day02.ipynb#W2sZmlsZQ%3D%3D?line=3'>4</a>\u001b[0m \u001b[39mprint\u001b[39;49m((x\u001b[39m/\u001b[39;49mv[:, \u001b[39mNone\u001b[39;49;00m]))[\u001b[39m1\u001b[39;49m][\u001b[39m1\u001b[39m] \u001b[39m# throws TypeError\u001b[39;00m\n",
      "\u001b[1;31mTypeError\u001b[0m: 'NoneType' object is not subscriptable"
     ]
    }
   ],
   "source": [
    "import numpy as np\n",
    "x = np.array([[200, 200, 200],[300, 300,300], [400, 400, 400]])\n",
    "v = np.array([200, 300, 400])\n",
    "print((x/v[:, None]))[1][1] # throws TypeError"
   ]
  },
  {
   "cell_type": "code",
   "execution_count": 10,
   "metadata": {},
   "outputs": [
    {
     "name": "stdout",
     "output_type": "stream",
     "text": [
      "21\n"
     ]
    }
   ],
   "source": [
    "import numpy as np\n",
    "p = np.array([[0], [10], [20]])\n",
    "q = np.array([10, 11, 12])\n",
    "print((p+q)[1][1])"
   ]
  },
  {
   "cell_type": "markdown",
   "metadata": {},
   "source": [
    "### 3. Batchmate's code\n",
    "What will be the output of following code"
   ]
  },
  {
   "cell_type": "code",
   "execution_count": 11,
   "metadata": {},
   "outputs": [
    {
     "name": "stdout",
     "output_type": "stream",
     "text": [
      "[16 81 33  5  6  1]\n"
     ]
    }
   ],
   "source": [
    "import numpy as np\n",
    "a = np.array([[16, 5], [81, 6], [33, 1]])\n",
    "\n",
    "x = np.transpose(a).reshape(2, 3)\n",
    "print(x.flatten())"
   ]
  },
  {
   "cell_type": "markdown",
   "metadata": {},
   "source": [
    "### 4. The Mask\n",
    "#### Problem Statement:\n",
    "Given an array of marks, return the array only containing elements with marks > 40"
   ]
  },
  {
   "cell_type": "code",
   "execution_count": 13,
   "metadata": {},
   "outputs": [
    {
     "data": {
      "text/plain": [
       "array([100,  68,  90, 100])"
      ]
     },
     "execution_count": 13,
     "metadata": {},
     "output_type": "execute_result"
    }
   ],
   "source": [
    "import numpy as np\n",
    "def filter_marks(marks: np.ndarray) :\n",
    "    mask = marks > 40\n",
    "    return marks[mask]\n",
    "\n",
    "marks = np.array([100, 35, 68, 90, 100])\n",
    "filter_marks(marks)"
   ]
  },
  {
   "cell_type": "markdown",
   "metadata": {},
   "source": [
    "### 5. Indexed array\n",
    "Given the following code, what will be the output"
   ]
  },
  {
   "cell_type": "code",
   "execution_count": 15,
   "metadata": {},
   "outputs": [
    {
     "name": "stdout",
     "output_type": "stream",
     "text": [
      "56\n"
     ]
    }
   ],
   "source": [
    "import numpy as np\n",
    "a = np.array([[34, 28, 55], [8, 56, 3], [77, 87, 19]])\n",
    "\n",
    "print(a.transpose()[-2, -2])"
   ]
  },
  {
   "cell_type": "markdown",
   "metadata": {},
   "source": [
    "### 6. One for All\n",
    "#### Problem Statement:\n",
    "Given a numpy array and traget values k,  return True if all elements of the array satisfy the given condition\n",
    "* Multiple of 2\n",
    "* Greater than k"
   ]
  },
  {
   "cell_type": "code",
   "execution_count": null,
   "metadata": {},
   "outputs": [],
   "source": [
    "import numpy as np\n",
    "def check_conditions(arr: np.ndarray, k:int):\n",
    "    mask = (arr % 2 == 0) & (arr > k)\n",
    "    return arr.all(mask)"
   ]
  }
 ],
 "metadata": {
  "kernelspec": {
   "display_name": "Python 3",
   "language": "python",
   "name": "python3"
  },
  "language_info": {
   "codemirror_mode": {
    "name": "ipython",
    "version": 3
   },
   "file_extension": ".py",
   "mimetype": "text/x-python",
   "name": "python",
   "nbconvert_exporter": "python",
   "pygments_lexer": "ipython3",
   "version": "3.11.4"
  }
 },
 "nbformat": 4,
 "nbformat_minor": 2
}
